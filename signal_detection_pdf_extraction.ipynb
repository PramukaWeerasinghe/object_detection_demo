{
  "nbformat": 4,
  "nbformat_minor": 0,
  "metadata": {
    "colab": {
      "name": "signal_detection_framework",
      "provenance": [],
      "collapsed_sections": [],
      "toc_visible": true,
      "machine_shape": "hm"
    },
    "kernelspec": {
      "name": "python3",
      "display_name": "Python 3"
    },
    "accelerator": "GPU"
  },
  "cells": [
    {
      "cell_type": "markdown",
      "metadata": {
        "id": "uQCnYPVDrsgx",
        "colab_type": "text"
      },
      "source": [
        "#Signal Detection Framework"
      ]
    },
    {
      "cell_type": "markdown",
      "metadata": {
        "id": "w4V-XE6kbkc1",
        "colab_type": "text"
      },
      "source": [
        "## Clone the repository."
      ]
    },
    {
      "cell_type": "code",
      "metadata": {
        "id": "dxc3DmvLQF3z",
        "colab_type": "code",
        "outputId": "f3b32ef0-0350-46db-938b-9ff1446bd9db",
        "colab": {
          "base_uri": "https://localhost:8080/",
          "height": 190
        }
      },
      "source": [
        "import os\n",
        "\n",
        "%cd /content\n",
        "\n",
        "# If you forked the repository, you can replace the link.\n",
        "repo_url = 'https://github.com/shaheer1995/signal_detection'\n",
        "\n",
        "repo_dir_path = os.path.abspath(os.path.join('.', os.path.basename(repo_url)))\n",
        "\n",
        "!git clone {repo_url}\n",
        "%cd {repo_dir_path}\n",
        "!git pull"
      ],
      "execution_count": 1,
      "outputs": [
        {
          "output_type": "stream",
          "text": [
            "/content\n",
            "Cloning into 'signal_detection'...\n",
            "remote: Enumerating objects: 19, done.\u001b[K\n",
            "remote: Counting objects: 100% (19/19), done.\u001b[K\n",
            "remote: Compressing objects: 100% (18/18), done.\u001b[K\n",
            "remote: Total 151 (delta 5), reused 15 (delta 1), pack-reused 132\u001b[K\n",
            "Receiving objects: 100% (151/151), 53.86 MiB | 43.77 MiB/s, done.\n",
            "Resolving deltas: 100% (41/41), done.\n",
            "/content/signal_detection\n",
            "Already up to date.\n"
          ],
          "name": "stdout"
        }
      ]
    },
    {
      "cell_type": "markdown",
      "metadata": {
        "id": "bI8__uNS8-ns",
        "colab_type": "text"
      },
      "source": [
        "## Install required packages and set up the environment"
      ]
    },
    {
      "cell_type": "code",
      "metadata": {
        "id": "ecpHEnka8Kix",
        "colab_type": "code",
        "outputId": "b97ba7b8-55b5-49f6-c7d1-bf36c479ed8a",
        "colab": {
          "base_uri": "https://localhost:8080/",
          "height": 708
        }
      },
      "source": [
        "%cd /content\n",
        "\n",
        "!apt-get install -qq protobuf-compiler python-pil python-lxml python-tk\n",
        "\n",
        "!pip install -q Cython contextlib2 pillow lxml matplotlib\n",
        "\n",
        "!pip install -q pycocotools\n",
        "\n",
        "%tensorflow_version 1.x\n",
        "import tensorflow as tf"
      ],
      "execution_count": 2,
      "outputs": [
        {
          "output_type": "stream",
          "text": [
            "/content\n",
            "Selecting previously unselected package python-bs4.\n",
            "(Reading database ... 144467 files and directories currently installed.)\n",
            "Preparing to unpack .../0-python-bs4_4.6.0-1_all.deb ...\n",
            "Unpacking python-bs4 (4.6.0-1) ...\n",
            "Selecting previously unselected package python-pkg-resources.\n",
            "Preparing to unpack .../1-python-pkg-resources_39.0.1-2_all.deb ...\n",
            "Unpacking python-pkg-resources (39.0.1-2) ...\n",
            "Selecting previously unselected package python-chardet.\n",
            "Preparing to unpack .../2-python-chardet_3.0.4-1_all.deb ...\n",
            "Unpacking python-chardet (3.0.4-1) ...\n",
            "Selecting previously unselected package python-six.\n",
            "Preparing to unpack .../3-python-six_1.11.0-2_all.deb ...\n",
            "Unpacking python-six (1.11.0-2) ...\n",
            "Selecting previously unselected package python-webencodings.\n",
            "Preparing to unpack .../4-python-webencodings_0.5-2_all.deb ...\n",
            "Unpacking python-webencodings (0.5-2) ...\n",
            "Selecting previously unselected package python-html5lib.\n",
            "Preparing to unpack .../5-python-html5lib_0.999999999-1_all.deb ...\n",
            "Unpacking python-html5lib (0.999999999-1) ...\n",
            "Selecting previously unselected package python-lxml:amd64.\n",
            "Preparing to unpack .../6-python-lxml_4.2.1-1ubuntu0.1_amd64.deb ...\n",
            "Unpacking python-lxml:amd64 (4.2.1-1ubuntu0.1) ...\n",
            "Selecting previously unselected package python-olefile.\n",
            "Preparing to unpack .../7-python-olefile_0.45.1-1_all.deb ...\n",
            "Unpacking python-olefile (0.45.1-1) ...\n",
            "Selecting previously unselected package python-pil:amd64.\n",
            "Preparing to unpack .../8-python-pil_5.1.0-1ubuntu0.2_amd64.deb ...\n",
            "Unpacking python-pil:amd64 (5.1.0-1ubuntu0.2) ...\n",
            "Setting up python-pkg-resources (39.0.1-2) ...\n",
            "Setting up python-six (1.11.0-2) ...\n",
            "Setting up python-bs4 (4.6.0-1) ...\n",
            "Setting up python-lxml:amd64 (4.2.1-1ubuntu0.1) ...\n",
            "Setting up python-olefile (0.45.1-1) ...\n",
            "Setting up python-pil:amd64 (5.1.0-1ubuntu0.2) ...\n",
            "Setting up python-webencodings (0.5-2) ...\n",
            "Setting up python-chardet (3.0.4-1) ...\n",
            "Setting up python-html5lib (0.999999999-1) ...\n",
            "Processing triggers for man-db (2.8.3-2ubuntu0.1) ...\n",
            "TensorFlow 1.x selected.\n"
          ],
          "name": "stdout"
        }
      ]
    },
    {
      "cell_type": "code",
      "metadata": {
        "id": "8_ZrVuC8up2w",
        "colab_type": "code",
        "outputId": "7dbe8743-6c02-443b-8791-9ce8aaf7e661",
        "colab": {
          "base_uri": "https://localhost:8080/",
          "height": 34
        }
      },
      "source": [
        "%cd /content/signal_detection/\n",
        "import wabtec_track\n",
        "from utils import label_map_util\n",
        "from utils import ops as utils_ops"
      ],
      "execution_count": 3,
      "outputs": [
        {
          "output_type": "stream",
          "text": [
            "/content/signal_detection\n"
          ],
          "name": "stdout"
        }
      ]
    },
    {
      "cell_type": "code",
      "metadata": {
        "id": "tgd-fzAIkZlV",
        "colab_type": "code",
        "colab": {}
      },
      "source": [
        "test_record_fname = '/content/signal_detection/data/annotations/test.record'\n",
        "train_record_fname = '/content/signal_detection/data/annotations/train.record'\n",
        "label_map_pbtxt_fname = '/content/signal_detection/data/annotations/label_map.pbtxt'"
      ],
      "execution_count": 0,
      "outputs": []
    },
    {
      "cell_type": "code",
      "metadata": {
        "id": "EX4Lr342yqjv",
        "colab_type": "code",
        "colab": {
          "base_uri": "https://localhost:8080/",
          "height": 72
        },
        "outputId": "4e69d1b4-5af3-4696-9bea-f33a69bdb4c0"
      },
      "source": [
        "def get_num_classes(pbtxt_fname):\n",
        "    from utils import label_map_util\n",
        "    label_map = label_map_util.load_labelmap(pbtxt_fname)\n",
        "    categories = label_map_util.convert_label_map_to_categories(\n",
        "        label_map, max_num_classes=90, use_display_name=True)\n",
        "    category_index = label_map_util.create_category_index(categories)\n",
        "    return len(category_index.keys())\n",
        "\n",
        "num_classes = get_num_classes(label_map_pbtxt_fname)"
      ],
      "execution_count": 5,
      "outputs": [
        {
          "output_type": "stream",
          "text": [
            "WARNING:tensorflow:From /content/signal_detection/utils/label_map_util.py:138: The name tf.gfile.GFile is deprecated. Please use tf.io.gfile.GFile instead.\n",
            "\n"
          ],
          "name": "stdout"
        }
      ]
    },
    {
      "cell_type": "code",
      "metadata": {
        "id": "xxzFXWU8kFXq",
        "colab_type": "code",
        "colab": {}
      },
      "source": [
        "import re\n",
        "import numpy as np\n",
        "\n",
        "output_directory = '/content/signal_detection/data/fine_tuned_model'"
      ],
      "execution_count": 0,
      "outputs": []
    },
    {
      "cell_type": "code",
      "metadata": {
        "id": "CnDo1lonKgFr",
        "colab_type": "code",
        "colab": {}
      },
      "source": [
        "import os\n",
        "\n",
        "pb_fname = os.path.join(os.path.abspath(output_directory), \"frozen_inference_graph.pb\")\n",
        "assert os.path.isfile(pb_fname), '`{}` not exist'.format(pb_fname)"
      ],
      "execution_count": 0,
      "outputs": []
    },
    {
      "cell_type": "markdown",
      "metadata": {
        "id": "OyeNxtpM2mSE",
        "colab_type": "text"
      },
      "source": [
        "#Run the Inference Test"
      ]
    },
    {
      "cell_type": "code",
      "metadata": {
        "id": "gjlvZjkTEZqo",
        "colab_type": "code",
        "colab": {}
      },
      "source": [
        "from imutils import contours\n",
        "import numpy as np\n",
        "import argparse\n",
        "import imutils\n",
        "import cv2\n",
        "\n",
        "alphanum = [\"A\",\"B\",\"C\",\"D\",\"E\",\"F\",\"G\",\"H\",\"I\",\"J\",\"K\",\"L\",\"M\",\"N\",\"O\",\"P\",\"Q\",\"R\",\"S\",\"T\",\"U\",\"V\",\"Y\",\"X\",\"Y\",\"Z\",\"1,\",\"2\",\"3\",\"4\",\"5\",\"6\",\"7\",\"8\",\"9\",\"0\",\"-\",\".\",\",\",\"/\"]\n",
        "\n",
        "\n",
        "\n",
        "def readOCRText(ref_img, target_img):\n",
        "        # load the reference OCR-A image from disk, convert it to grayscale,\n",
        "        # and threshold it, such that the digits appear as *white* on a\n",
        "        # *black* background\n",
        "        # and invert it, such that the digits appear as *white* on a *black*\n",
        "        ref = ref_img\n",
        "        ref = cv2.cvtColor(ref, cv2.COLOR_BGR2GRAY)\n",
        "        ref = cv2.threshold(ref, 127, 255, cv2.THRESH_BINARY_INV)[1]\n",
        "\n",
        "        # find contours in the OCR-A image (i.e,. the outlines of the digits)\n",
        "        # sort them from left to right, and initialize a dictionary to map\n",
        "        # digit name to the ROI\n",
        "        refCnts = cv2.findContours(ref.copy(), cv2.RETR_EXTERNAL,\n",
        "                cv2.CHAIN_APPROX_SIMPLE)\n",
        "        refCnts = imutils.grab_contours(refCnts)\n",
        "        refCnts = contours.sort_contours(refCnts, method=\"left-to-right\")[0]\n",
        "        digits = {}\n",
        "\n",
        "        for (i, c) in enumerate(refCnts):\n",
        "                # compute the bounding box for the digit, extract it, and resize\n",
        "                # it to a fixed size\n",
        "                (x, y, w, h) = cv2.boundingRect(c)\n",
        "                roi = ref[y:y + h, x:x + w]\n",
        "                roi = cv2.resize(roi, (57, 88))\n",
        "                # update the digits dictionary, mapping the digit name to the ROI\n",
        "                digits[i] = roi\n",
        "\n",
        "        sample = target_img\n",
        "        sample = cv2.cvtColor(sample, cv2.COLOR_BGR2GRAY)\n",
        "        sample = cv2.threshold(sample, 127, 255, cv2.THRESH_BINARY_INV)[1]\n",
        "\n",
        "        # detect the contours of each individual digit in the group,\n",
        "        # then sort the digit contours from left to right\n",
        "        digitCnts = cv2.findContours(sample.copy(), cv2.RETR_EXTERNAL,\n",
        "                        cv2.CHAIN_APPROX_SIMPLE)\n",
        "        digitCnts = imutils.grab_contours(digitCnts)\n",
        "        digitCnts = contours.sort_contours(digitCnts,\n",
        "                method=\"left-to-right\")[0]\n",
        "\n",
        "        groupOutput = []\n",
        "\n",
        "        # loop over the digit contours\n",
        "        for c in digitCnts:\n",
        "                # compute the bounding box of the individual digit, extract\n",
        "                # the digit, and resize it to have the same fixed size as\n",
        "                # the reference OCR-A images\n",
        "                (x, y, w, h) = cv2.boundingRect(c)\n",
        "                #print (str(x) +\",\"+str(y)+\",\"+str(w)+\",\"+str(h))\n",
        "                roi = sample[y:y + h, x:x + w]\n",
        "                roi = cv2.resize(roi, (57, 88))\n",
        "                #cv2.imshow(\"Image\", roi)\n",
        "                #mcv2.waitKey(0)\n",
        "                # initialize a list of template matching scores\n",
        "                scores = []\n",
        "\n",
        "                # loop over the reference digit name and digit ROI\n",
        "                for (digit, digitROI) in digits.items():\n",
        "                        # apply correlation-based template matching, take the\n",
        "                        # score, and update the scores list\n",
        "                        result = cv2.matchTemplate(roi, digitROI,\n",
        "                                cv2.TM_CCOEFF)\n",
        "                        #print(result)\n",
        "\n",
        "                        (_, score, _, _) = cv2.minMaxLoc(result)\n",
        "                        scores.append(score)\n",
        "                        #print(score)\n",
        "                if np.max(scores)>10000000:\n",
        "                        groupOutput.append(str(alphanum[np.argmax(scores)]))\n",
        "        #                 print(str(np.argmax(scores)))\n",
        "        # print(\"---------------------------------------------------------------------\")\n",
        "        return groupOutput\n"
      ],
      "execution_count": 0,
      "outputs": []
    },
    {
      "cell_type": "code",
      "metadata": {
        "id": "SBEL_DOXGgdX",
        "colab_type": "code",
        "colab": {}
      },
      "source": [
        "   ref_image = cv2.imread('/content/signal_detection/reference_image.png')\n"
      ],
      "execution_count": 0,
      "outputs": []
    },
    {
      "cell_type": "code",
      "metadata": {
        "id": "vNJ7wx3R68Sg",
        "colab_type": "code",
        "colab": {
          "base_uri": "https://localhost:8080/",
          "height": 34
        },
        "outputId": "e806a330-8e8c-4492-9b9c-b65026665ade"
      },
      "source": [
        "%cd test/\n",
        "%mkdir pdf"
      ],
      "execution_count": 23,
      "outputs": [
        {
          "output_type": "stream",
          "text": [
            "/content/signal_detection/test\n"
          ],
          "name": "stdout"
        }
      ]
    },
    {
      "cell_type": "code",
      "metadata": {
        "id": "FPNzQ5O91xn4",
        "colab_type": "code",
        "outputId": "462e2c62-50cd-4d43-d65c-6fcd5eb8d1f0",
        "colab": {
          "base_uri": "https://localhost:8080/",
          "height": 217
        }
      },
      "source": [
        "import os\n",
        "import glob\n",
        "\n",
        "PATH_TO_TEST_IMAGES_DIR =  os.path.join(\"/content/signal_detection/test\", \"pdf\")\n",
        "TEST_PDF_PATH = glob.glob(os.path.join(PATH_TO_TEST_IMAGES_DIR, \"*.*\"))\n",
        "assert len(TEST_PDF_PATH) > 0, 'No image found in `{}`.'.format(PATH_TO_TEST_IMAGES_DIR)\n",
        "print(TEST_PDF_PATH)"
      ],
      "execution_count": 24,
      "outputs": [
        {
          "output_type": "error",
          "ename": "AssertionError",
          "evalue": "ignored",
          "traceback": [
            "\u001b[0;31m---------------------------------------------------------------------------\u001b[0m",
            "\u001b[0;31mAssertionError\u001b[0m                            Traceback (most recent call last)",
            "\u001b[0;32m<ipython-input-24-16a3f34a0c06>\u001b[0m in \u001b[0;36m<module>\u001b[0;34m()\u001b[0m\n\u001b[1;32m      4\u001b[0m \u001b[0mPATH_TO_TEST_IMAGES_DIR\u001b[0m \u001b[0;34m=\u001b[0m  \u001b[0mos\u001b[0m\u001b[0;34m.\u001b[0m\u001b[0mpath\u001b[0m\u001b[0;34m.\u001b[0m\u001b[0mjoin\u001b[0m\u001b[0;34m(\u001b[0m\u001b[0;34m\"/content/signal_detection/test\"\u001b[0m\u001b[0;34m,\u001b[0m \u001b[0;34m\"pdf\"\u001b[0m\u001b[0;34m)\u001b[0m\u001b[0;34m\u001b[0m\u001b[0;34m\u001b[0m\u001b[0m\n\u001b[1;32m      5\u001b[0m \u001b[0mTEST_PDF_PATH\u001b[0m \u001b[0;34m=\u001b[0m \u001b[0mglob\u001b[0m\u001b[0;34m.\u001b[0m\u001b[0mglob\u001b[0m\u001b[0;34m(\u001b[0m\u001b[0mos\u001b[0m\u001b[0;34m.\u001b[0m\u001b[0mpath\u001b[0m\u001b[0;34m.\u001b[0m\u001b[0mjoin\u001b[0m\u001b[0;34m(\u001b[0m\u001b[0mPATH_TO_TEST_IMAGES_DIR\u001b[0m\u001b[0;34m,\u001b[0m \u001b[0;34m\"*.*\"\u001b[0m\u001b[0;34m)\u001b[0m\u001b[0;34m)\u001b[0m\u001b[0;34m\u001b[0m\u001b[0;34m\u001b[0m\u001b[0m\n\u001b[0;32m----> 6\u001b[0;31m \u001b[0;32massert\u001b[0m \u001b[0mlen\u001b[0m\u001b[0;34m(\u001b[0m\u001b[0mTEST_PDF_PATH\u001b[0m\u001b[0;34m)\u001b[0m \u001b[0;34m>\u001b[0m \u001b[0;36m0\u001b[0m\u001b[0;34m,\u001b[0m \u001b[0;34m'No image found in `{}`.'\u001b[0m\u001b[0;34m.\u001b[0m\u001b[0mformat\u001b[0m\u001b[0;34m(\u001b[0m\u001b[0mPATH_TO_TEST_IMAGES_DIR\u001b[0m\u001b[0;34m)\u001b[0m\u001b[0;34m\u001b[0m\u001b[0;34m\u001b[0m\u001b[0m\n\u001b[0m\u001b[1;32m      7\u001b[0m \u001b[0mprint\u001b[0m\u001b[0;34m(\u001b[0m\u001b[0mTEST_PDF_PATH\u001b[0m\u001b[0;34m)\u001b[0m\u001b[0;34m\u001b[0m\u001b[0;34m\u001b[0m\u001b[0m\n",
            "\u001b[0;31mAssertionError\u001b[0m: No image found in `/content/signal_detection/test/pdf`."
          ]
        }
      ]
    },
    {
      "cell_type": "code",
      "metadata": {
        "id": "VuCKo3Edx6zT",
        "colab_type": "code",
        "outputId": "bc1a428b-98f0-4c1d-daa5-02dd5dbce608",
        "colab": {
          "base_uri": "https://localhost:8080/",
          "height": 400
        }
      },
      "source": [
        "!pip install pdf2image\n",
        "!apt-get install poppler-utils "
      ],
      "execution_count": 14,
      "outputs": [
        {
          "output_type": "stream",
          "text": [
            "Collecting pdf2image\n",
            "  Downloading https://files.pythonhosted.org/packages/c6/62/bf2df0547cf4e216b329a9d39a7aa6c755f02071e63e17a4b76690ebfe20/pdf2image-1.13.1-py3-none-any.whl\n",
            "Requirement already satisfied: pillow in /usr/local/lib/python3.6/dist-packages (from pdf2image) (7.0.0)\n",
            "Installing collected packages: pdf2image\n",
            "Successfully installed pdf2image-1.13.1\n",
            "Reading package lists... Done\n",
            "Building dependency tree       \n",
            "Reading state information... Done\n",
            "The following NEW packages will be installed:\n",
            "  poppler-utils\n",
            "0 upgraded, 1 newly installed, 0 to remove and 32 not upgraded.\n",
            "Need to get 154 kB of archives.\n",
            "After this operation, 613 kB of additional disk space will be used.\n",
            "Get:1 http://archive.ubuntu.com/ubuntu bionic-updates/main amd64 poppler-utils amd64 0.62.0-2ubuntu2.10 [154 kB]\n",
            "Fetched 154 kB in 1s (281 kB/s)\n",
            "Selecting previously unselected package poppler-utils.\n",
            "(Reading database ... 144852 files and directories currently installed.)\n",
            "Preparing to unpack .../poppler-utils_0.62.0-2ubuntu2.10_amd64.deb ...\n",
            "Unpacking poppler-utils (0.62.0-2ubuntu2.10) ...\n",
            "Setting up poppler-utils (0.62.0-2ubuntu2.10) ...\n",
            "Processing triggers for man-db (2.8.3-2ubuntu0.1) ...\n"
          ],
          "name": "stdout"
        }
      ]
    },
    {
      "cell_type": "code",
      "metadata": {
        "id": "kaL3Izv9wxcu",
        "colab_type": "code",
        "outputId": "9de47e90-8470-45c1-a9f5-1d83a03769bd",
        "colab": {
          "base_uri": "https://localhost:8080/",
          "height": 235
        }
      },
      "source": [
        "#PDF TO IMAGE CONVERSION\n",
        "#IMPORT LIBRARIES\n",
        "import pdf2image\n",
        "from PIL import Image\n",
        "import time\n",
        "\n",
        "#DECLARE CONSTANTS\n",
        "PDF_PATH = TEST_PDF_PATH[0]\n",
        "DPI = 200\n",
        "OUTPUT_FOLDER = None\n",
        "FIRST_PAGE = None\n",
        "LAST_PAGE = None\n",
        "FORMAT = 'jpg'\n",
        "THREAD_COUNT = 1\n",
        "USERPWD = None\n",
        "USE_CROPBOX = False\n",
        "STRICT = False\n",
        "\n",
        "def pdftopil():\n",
        "    start_time = time.time()\n",
        "    pil_images = pdf2image.convert_from_path(PDF_PATH, dpi=DPI, output_folder=OUTPUT_FOLDER, first_page=FIRST_PAGE, last_page=LAST_PAGE, fmt=FORMAT, thread_count=THREAD_COUNT, userpw=USERPWD, use_cropbox=USE_CROPBOX, strict=STRICT)\n",
        "    print (\"Time taken : \" + str(time.time() - start_time))\n",
        "    return pil_images\n",
        "    \n",
        "def save_images(pil_images):\n",
        "    #This method helps in converting the images in PIL Image file format to the required image format\n",
        "    index = 1\n",
        "    for image in pil_images:\n",
        "        image.save(\"page_\" + str(index) + \".jpg\")\n",
        "        index += 1\n",
        "\n",
        "pil_images = pdftopil()\n",
        "save_images(pil_images) \n"
      ],
      "execution_count": 25,
      "outputs": [
        {
          "output_type": "error",
          "ename": "IndexError",
          "evalue": "ignored",
          "traceback": [
            "\u001b[0;31m---------------------------------------------------------------------------\u001b[0m",
            "\u001b[0;31mIndexError\u001b[0m                                Traceback (most recent call last)",
            "\u001b[0;32m<ipython-input-25-0bdd23b24025>\u001b[0m in \u001b[0;36m<module>\u001b[0;34m()\u001b[0m\n\u001b[1;32m      6\u001b[0m \u001b[0;34m\u001b[0m\u001b[0m\n\u001b[1;32m      7\u001b[0m \u001b[0;31m#DECLARE CONSTANTS\u001b[0m\u001b[0;34m\u001b[0m\u001b[0;34m\u001b[0m\u001b[0;34m\u001b[0m\u001b[0m\n\u001b[0;32m----> 8\u001b[0;31m \u001b[0mPDF_PATH\u001b[0m \u001b[0;34m=\u001b[0m \u001b[0mTEST_PDF_PATH\u001b[0m\u001b[0;34m[\u001b[0m\u001b[0;36m0\u001b[0m\u001b[0;34m]\u001b[0m\u001b[0;34m\u001b[0m\u001b[0;34m\u001b[0m\u001b[0m\n\u001b[0m\u001b[1;32m      9\u001b[0m \u001b[0mDPI\u001b[0m \u001b[0;34m=\u001b[0m \u001b[0;36m200\u001b[0m\u001b[0;34m\u001b[0m\u001b[0;34m\u001b[0m\u001b[0m\n\u001b[1;32m     10\u001b[0m \u001b[0mOUTPUT_FOLDER\u001b[0m \u001b[0;34m=\u001b[0m \u001b[0;32mNone\u001b[0m\u001b[0;34m\u001b[0m\u001b[0;34m\u001b[0m\u001b[0m\n",
            "\u001b[0;31mIndexError\u001b[0m: list index out of range"
          ]
        }
      ]
    },
    {
      "cell_type": "code",
      "metadata": {
        "id": "Zhf4fOBM1LsE",
        "colab_type": "code",
        "colab": {}
      },
      "source": [
        "!rm -r pdf"
      ],
      "execution_count": 0,
      "outputs": []
    },
    {
      "cell_type": "code",
      "metadata": {
        "id": "CG5YUMdg1Po7",
        "colab_type": "code",
        "outputId": "bf2592c6-4ffa-4cc8-d24d-d37c2e43d476",
        "colab": {
          "base_uri": "https://localhost:8080/",
          "height": 235
        }
      },
      "source": [
        "import os\n",
        "import glob\n",
        "import numpy as np\n",
        "import six.moves.urllib as urllib\n",
        "import sys\n",
        "import tarfile\n",
        "import tensorflow as tf\n",
        "import shutil\n",
        "import cv2\n",
        "import zipfile\n",
        "import pandas as pd\n",
        "import wabtec_track\n",
        "\n",
        "from google.colab import files\n",
        "\n",
        "from collections import defaultdict\n",
        "from io import StringIO\n",
        "from matplotlib import pyplot as plt\n",
        "from PIL import Image\n",
        "\n",
        "# This is needed since the notebook is stored in the object_detection folder.\n",
        "sys.path.append(\"..\")\n",
        "\n",
        "%matplotlib inline\n",
        "\n",
        "# Path to frozen detection graph. This is the actual model that is used for the object detection.\n",
        "PATH_TO_CKPT = pb_fname\n",
        "\n",
        "# List of the strings that is used to add correct label for each box.\n",
        "PATH_TO_LABELS = label_map_pbtxt_fname\n",
        "\n",
        "# If you want to test the code with your images, just add images files to the PATH_TO_TEST_IMAGES_DIR.\n",
        "PATH_TO_TEST_IMAGES_DIR =  os.path.join(\"/content/signal_detection\", \"test\")\n",
        "\n",
        "assert os.path.isfile(pb_fname)\n",
        "assert os.path.isfile(PATH_TO_LABELS)\n",
        "TEST_IMAGE_PATHS = glob.glob(os.path.join(PATH_TO_TEST_IMAGES_DIR, \"*.*\"))\n",
        "assert len(TEST_IMAGE_PATHS) > 0, 'No image found in `{}`.'.format(PATH_TO_TEST_IMAGES_DIR)\n",
        "print(TEST_IMAGE_PATHS)\n",
        "\n",
        "'''\n",
        "  To Visualize Initiate the following array\n",
        "  Array Order [\"Switch\",\"Track\",\"Left signal\",\"Right Signal\", \"all\"]\n",
        "  Ex: If you want bounding boxes only on switches and Tracks\n",
        "      array should be [1,1,0,0]\n",
        "'''\n",
        "visualize = [1,1,1,1,0]\n",
        "\n",
        "detection_graph = tf.Graph()\n",
        "with detection_graph.as_default():\n",
        "    od_graph_def = tf.GraphDef()\n",
        "    with tf.gfile.GFile(PATH_TO_CKPT, 'rb') as fid:\n",
        "        serialized_graph = fid.read()\n",
        "        od_graph_def.ParseFromString(serialized_graph)\n",
        "        tf.import_graph_def(od_graph_def, name='')\n",
        "\n",
        "\n",
        "label_map = label_map_util.load_labelmap(PATH_TO_LABELS)\n",
        "categories = label_map_util.convert_label_map_to_categories(\n",
        "    label_map, max_num_classes=num_classes, use_display_name=True)\n",
        "category_index = label_map_util.create_category_index(categories)\n",
        "\n",
        "s_id = []\n",
        "milepost = []\n",
        "s_type = []\n",
        "\n",
        "def load_image_into_numpy_array(image):\n",
        "    (im_width, im_height) = image.size\n",
        "    return np.array(image.getdata()).reshape(\n",
        "        (im_height, im_width, 3)).astype(np.uint8)\n",
        "\n",
        "# Size, in inches, of the output images.\n",
        "IMAGE_SIZE = (12, 8)\n",
        "\n",
        "#thresholding\n",
        "def thresholding(image):\n",
        "    return cv2.threshold(image, 60, 255, cv2.THRESH_BINARY)\n",
        "\n",
        "# get grayscale image\n",
        "def get_grayscale(image):\n",
        "    return cv2.cvtColor(image, cv2.COLOR_BGR2GRAY)\n",
        "\n",
        "#Draw Bounding boxes\n",
        "def drawBoundingBoxes(xmin,ymin,xmax,ymax,r,g,b,t):\n",
        "  x1,y1,x2,y2 = np.int64(xmin * im_width), np.int64(ymin * im_height), np.int64(xmax * im_width), np.int64(ymax * im_height)\n",
        "  cv2.rectangle(image_np, (x1, y1), (x2, y2), (r, g, b), t)\n",
        "\n",
        "#Rn Inference on single image\n",
        "def run_inference_for_single_image(image, graph):\n",
        "    with graph.as_default():\n",
        "        with tf.Session() as sess:\n",
        "            # Get handles to input and output tensors\n",
        "            ops = tf.get_default_graph().get_operations()\n",
        "            all_tensor_names = {\n",
        "                output.name for op in ops for output in op.outputs}\n",
        "            tensor_dict = {}\n",
        "            for key in [\n",
        "                'num_detections', 'detection_boxes', 'detection_scores',\n",
        "                'detection_classes', 'detection_masks'\n",
        "            ]:\n",
        "                tensor_name = key + ':0'\n",
        "                if tensor_name in all_tensor_names:\n",
        "                    tensor_dict[key] = tf.get_default_graph().get_tensor_by_name(\n",
        "                        tensor_name)\n",
        "            if 'detection_masks' in tensor_dict:\n",
        "                # The following processing is only for single image\n",
        "                detection_boxes = tf.squeeze(\n",
        "                    tensor_dict['detection_boxes'], [0])\n",
        "                detection_masks = tf.squeeze(\n",
        "                    tensor_dict['detection_masks'], [0])\n",
        "                # Reframe is required to translate mask from box coordinates to image coordinates and fit the image size.\n",
        "                real_num_detection = tf.cast(\n",
        "                    tensor_dict['num_detections'][0], tf.int32)\n",
        "                detection_boxes = tf.slice(detection_boxes, [0, 0], [\n",
        "                                           real_num_detection, -1])\n",
        "                detection_masks = tf.slice(detection_masks, [0, 0, 0], [\n",
        "                                           real_num_detection, -1, -1])\n",
        "                detection_masks_reframed = utils_ops.reframe_box_masks_to_image_masks(\n",
        "                    detection_masks, detection_boxes, image.shape[0], image.shape[1])\n",
        "                detection_masks_reframed = tf.cast(\n",
        "                    tf.greater(detection_masks_reframed, 0.5), tf.uint8)\n",
        "                # Follow the convention by adding back the batch dimension\n",
        "                tensor_dict['detection_masks'] = tf.expand_dims(\n",
        "                    detection_masks_reframed, 0)\n",
        "            image_tensor = tf.get_default_graph().get_tensor_by_name('image_tensor:0')\n",
        "\n",
        "            # Run inference\n",
        "            output_dict = sess.run(tensor_dict,\n",
        "                                   feed_dict={image_tensor: np.expand_dims(image, 0)})\n",
        "\n",
        "            # all outputs are float32 numpy arrays, so convert types as appropriate\n",
        "            output_dict['num_detections'] = int(\n",
        "                output_dict['num_detections'][0])\n",
        "            output_dict['detection_classes'] = output_dict[\n",
        "                'detection_classes'][0].astype(np.uint8)\n",
        "            output_dict['detection_boxes'] = output_dict['detection_boxes'][0]\n",
        "            output_dict['detection_scores'] = output_dict['detection_scores'][0]\n",
        "            if 'detection_masks' in output_dict:\n",
        "                output_dict['detection_masks'] = output_dict['detection_masks'][0]\n",
        "    return output_dict\n",
        "\n",
        "for image_path in TEST_IMAGE_PATHS:\n",
        "    image = Image.open(image_path)\n",
        "    # the array based representation of the image will be used later in order to prepare the\n",
        "    # result image with boxes and labels on it.\n",
        "    image_np = load_image_into_numpy_array(image)\n",
        "    #Image to crop labels\n",
        "    image_to_crop = load_image_into_numpy_array(image)\n",
        "    # Expand dimensions since the model expects images to have shape: [1, None, None, 3]\n",
        "    image_np_expanded = np.expand_dims(image_np, axis=0)\n",
        "    # Actual detection.\n",
        "    output_dict = run_inference_for_single_image(image_np, detection_graph)\n",
        "    # Visualization of the results of a detection.4\n",
        "\n",
        "    #Obtaining detection boxes, classes and detection scores\n",
        "    boxes = np.squeeze(output_dict['detection_boxes'])\n",
        "    scores = np.squeeze(output_dict['detection_scores'])\n",
        "    classes = np.squeeze(output_dict['detection_classes'])\n",
        "    #set a min thresh score\n",
        "    ########\n",
        "    min_score_thresh = 0.25\n",
        "    ########\n",
        "    #Filtering the bounding boxes\n",
        "    bboxes = boxes[scores > min_score_thresh]\n",
        "    d_classes = classes[scores > min_score_thresh]\n",
        "    switch_boxes = bboxes[d_classes == 4]\n",
        "    milepost_boxes = bboxes[d_classes == 2]\n",
        "    left_signal_boxes = bboxes[d_classes == 1]\n",
        "    right_signal_boxes = bboxes[d_classes == 3]\n",
        "\n",
        "    #get image size\n",
        "    im_width, im_height = image.size\n",
        "\n",
        "    final_box = []\n",
        "    for box in bboxes:\n",
        "        ymin, xmin, ymax, xmax = box\n",
        "        final_box.append([xmin * im_width, xmax * im_width, ymin * im_height, ymax * im_height])\n",
        "    #print(final_box)\n",
        "\n",
        "    if(visualize[0] == 1 or visualize[4] == 1):\n",
        "      sw_box = []\n",
        "      for box in switch_boxes:\n",
        "          ymin, xmin, ymax, xmax = box\n",
        "          sw_box.append([xmin * im_width, xmax * im_width, ymin * im_height, ymax * im_height])\n",
        "          drawBoundingBoxes(xmin,ymin,xmax,ymax,256,100,25,2)\n",
        "\n",
        "    if(visualize[2] == 1 or visualize[4] == 1):\n",
        "      ls_box = []\n",
        "      for box in left_signal_boxes:\n",
        "          ymin, xmin, ymax, xmax = box\n",
        "          ls_box.append([xmin * im_width, xmax * im_width, ymin * im_height, ymax * im_height])\n",
        "          drawBoundingBoxes(xmin,ymin,xmax,ymax,0,255,255,2)\n",
        "\n",
        "    if(visualize[2] == 1 or visualize[4] == 1):\n",
        "      rs_box = []\n",
        "      for box in right_signal_boxes:\n",
        "          ymin, xmin, ymax, xmax = box\n",
        "          rs_box.append([xmin * im_width, xmax * im_width, ymin * im_height, ymax * im_height])\n",
        "          drawBoundingBoxes(xmin,ymin,xmax,ymax,0,255,255,2)\n",
        "\n",
        "    m_box = []\n",
        "    for box in milepost_boxes:\n",
        "        ymin, xmin, ymax, xmax = box\n",
        "        m_box.append([xmin * im_width, xmax * im_width, ymin * im_height, ymax * im_height])\n",
        "        drawBoundingBoxes(xmin,ymin,xmax,ymax,0,0,256,2)\n",
        "\n",
        "    \n",
        "    #switch\n",
        "    if(visualize[0] == 1):\n",
        "      for box in sw_box:\n",
        "        ymin, xmin, ymax, xmax = box\n",
        "        y,h,x,w =  np.int64(ymin), np.int64(ymax),np.int64(xmin), np.int64(xmax)\n",
        "        crop_img = image_to_crop[h-10:w+10,y-10:x+10]\n",
        "        #Following lines will print cropped individual switches..\n",
        "        # plt.figure(figsize=(1,2))\n",
        "        # plt.imshow(crop_img) \n",
        "        for b in m_box:\n",
        "            ymin, xmin, ymax, xmax = b\n",
        "            a,b,c,d = np.int64(ymin), np.int64(ymax),np.int64(xmin), np.int64(xmax)\n",
        "            val = (y+x)/2\n",
        "            mid_milepost_x = np.int64((a+c)/2)\n",
        "            mid_milepost_y = np.int64((b+d)/2)\n",
        "            if(a<val and val<c ):\n",
        "              if(h>b):\n",
        "                cv2.line(image_np, (y,h), (mid_milepost_x,d), (256,100,25), 2)\n",
        "              else:\n",
        "                cv2.line(image_np, (y,w), (mid_milepost_x,b), (256,100,25), 2)\n",
        "              crop_ml = image_to_crop[b-5:d+5,a+5:c-5]\n",
        "              r_img = cv2.rotate(crop_ml, cv2.ROTATE_90_CLOCKWISE)\n",
        "              #Following lines will print cropped individual mileposts..\n",
        "              # plt.figure(figsize=(4,8))\n",
        "              # plt.imshow(r_img) \n",
        "              # if '\\n' in milestone_preprocess(r_img):\n",
        "              #   milepost.append(milestone_preprocess(r_img).split('\\ ')[4:14])\n",
        "              # else:\n",
        "              #   milepost.append(milestone_preprocess(r_img)[5:14])\n",
        "              milepost_str = ' '.join(map(str, readOCRText(ref_image,r_img)))\n",
        "              switch_str = ' '.join(map(str, readOCRText(ref_image,crop_img)))\n",
        "              milepost_withoutcomma = milepost_str.replace(',','')\n",
        "              switch_withoutcomma = switch_str.replace(',','')\n",
        "              milepost.append(milepost_withoutcomma.replace(' ',''))\n",
        "              s_id.append(switch_withoutcomma.replace(' ',''))\n",
        "              s_type.append(\"switch\")\n",
        "              #plt.imshow(r_img,cmap='gray') \n",
        "\n",
        "    #left signal\n",
        "    if(visualize[2] == 1):\n",
        "      for box in ls_box:\n",
        "        ymin, xmin, ymax, xmax = box\n",
        "        y,h,x,w =  np.int64(ymin), np.int64(ymax),np.int64(xmin), np.int64(xmax)\n",
        "        crop_img = image_to_crop[h:w,y:x]\n",
        "        #Following lines will print cropped individual leftSignals..\n",
        "        # plt.figure(figsize=(2,4))\n",
        "        # plt.imshow(crop_img)  \n",
        "        for b in m_box:\n",
        "            ymin, xmin, ymax, xmax = b\n",
        "            a,b,c,d = np.int64(ymin), np.int64(ymax),np.int64(xmin), np.int64(xmax)\n",
        "            val = x-5\n",
        "            mid_milepost_x = np.int64((a+c)/2)\n",
        "            mid_milepost_y = np.int64((b+d)/2)\n",
        "            if(a<val and val<c ):\n",
        "              if(h>b):\n",
        "                cv2.line(image_np, (y,h), (mid_milepost_x,d), (256,100,25), 2)\n",
        "              else:\n",
        "                cv2.line(image_np, (y,w), (mid_milepost_x,b), (256,100,25), 2)\n",
        "              crop_ml = image_to_crop[b-5:d+5,a+5:c-5]\n",
        "              r_img = cv2.rotate(crop_ml, cv2.ROTATE_90_CLOCKWISE)\n",
        "              #Following lines will print cropped individual mileposts..\n",
        "              # plt.figure(figsize=(4,8))\n",
        "              # plt.imshow(r_img) \n",
        "              #print(pytesseract.image_to_string(img, config=custom_config))\n",
        "              milepost_str = ' '.join(map(str, readOCRText(ref_image,r_img)))\n",
        "              switch_str = ' '.join(map(str, readOCRText(ref_image,crop_img)))\n",
        "              milepost_withoutcomma = milepost_str.replace(',','')\n",
        "              switch_withoutcomma = switch_str.replace(',','')\n",
        "              milepost.append(milepost_withoutcomma.replace(' ',''))\n",
        "              s_id.append(switch_withoutcomma.replace(' ',''))\n",
        "              s_type.append(\"right Signal\")\n",
        "              #plt.imshow(img,cmap='gray')\n",
        "\n",
        "    #right signal\n",
        "    if(visualize[2] == 1):\n",
        "      for box in rs_box:\n",
        "        ymin, xmin, ymax, xmax = box\n",
        "        y,h,x,w =  np.int64(ymin), np.int64(ymax),np.int64(xmin), np.int64(xmax)\n",
        "        crop_img = image_to_crop[h:w,y:x]\n",
        "        #Following lines will print cropped individual rightSignals..\n",
        "        # plt.figure(figsize=(2,4))\n",
        "        # plt.imshow(crop_img)  \n",
        "        for b in m_box:\n",
        "            ymin, xmin, ymax, xmax = b\n",
        "            a,b,c,d = np.int64(ymin), np.int64(ymax),np.int64(xmin), np.int64(xmax)\n",
        "            val = y+5\n",
        "            mid_milepost_x = np.int64((a+c)/2)\n",
        "            mid_milepost_y = np.int64((b+d)/2)\n",
        "            if(a<val and val<c ):\n",
        "              if(h>b):\n",
        "                cv2.line(image_np, (y,h), (mid_milepost_x,d), (256,100,25), 2)\n",
        "              else:\n",
        "                cv2.line(image_np, (y,w), (mid_milepost_x,b), (256,100,25), 2)\n",
        "              crop_ml = image_to_crop[b-5:d+5,a+5:c-5]\n",
        "              r_img = cv2.rotate(crop_ml, cv2.ROTATE_90_CLOCKWISE)\n",
        "              #Following lines will print cropped individual mileposts..\n",
        "              # plt.figure(figsize=(4,8))\n",
        "              # plt.imshow(r_img) \n",
        "              #print(pytesseract.image_to_string(img, config=custom_config))\n",
        "              milepost_str = ' '.join(map(str, readOCRText(ref_image,r_img)))\n",
        "              switch_str = ' '.join(map(str, readOCRText(ref_image,crop_img)))\n",
        "              milepost_withoutcomma = milepost_str.replace(',','')\n",
        "              switch_withoutcomma = switch_str.replace(',','')\n",
        "              milepost.append(milepost_withoutcomma.replace(' ',''))\n",
        "              s_id.append(switch_withoutcomma.replace(' ',''))\n",
        "              s_type.append(\"left Signal\")       \n",
        "    \n",
        "    if(visualize[1]==1 or visualize[4] == 1): \n",
        "      t_img = cv2.imwrite('color_img.jpg', image_np)\n",
        "      wtt = wabtec_track.WabTecTrack(file_name='color_img.jpg')\n",
        "      tracks = wtt.get_lines()  \n",
        "      for track in tracks:\n",
        "        (x1,y1) = track.point_one()\n",
        "        (x2,y2) = track.point_two()\n",
        "        cv2.rectangle(image_np, (x1-10, y1-10), (x2+10, y2+10), (128, 0, 128), 2)\n",
        "       \n",
        "    #print(category_index)\n",
        "    #print(d_classes)\n",
        "    #print(m_box)\n",
        "    plt.figure(figsize=IMAGE_SIZE)\n",
        "    plt.imshow(image_np)\n",
        "    plt.xticks([])\n",
        "    plt.yticks([])\n",
        "    \n",
        "\n",
        "dict = {'type': s_type, 'id':s_id, 'milepost':milepost}\n",
        "df = pd.DataFrame(dict)\n",
        "print(df)"
      ],
      "execution_count": 27,
      "outputs": [
        {
          "output_type": "error",
          "ename": "AssertionError",
          "evalue": "ignored",
          "traceback": [
            "\u001b[0;31m---------------------------------------------------------------------------\u001b[0m",
            "\u001b[0;31mAssertionError\u001b[0m                            Traceback (most recent call last)",
            "\u001b[0;32m<ipython-input-27-5a337a79b77b>\u001b[0m in \u001b[0;36m<module>\u001b[0;34m()\u001b[0m\n\u001b[1;32m     36\u001b[0m \u001b[0;32massert\u001b[0m \u001b[0mos\u001b[0m\u001b[0;34m.\u001b[0m\u001b[0mpath\u001b[0m\u001b[0;34m.\u001b[0m\u001b[0misfile\u001b[0m\u001b[0;34m(\u001b[0m\u001b[0mPATH_TO_LABELS\u001b[0m\u001b[0;34m)\u001b[0m\u001b[0;34m\u001b[0m\u001b[0;34m\u001b[0m\u001b[0m\n\u001b[1;32m     37\u001b[0m \u001b[0mTEST_IMAGE_PATHS\u001b[0m \u001b[0;34m=\u001b[0m \u001b[0mglob\u001b[0m\u001b[0;34m.\u001b[0m\u001b[0mglob\u001b[0m\u001b[0;34m(\u001b[0m\u001b[0mos\u001b[0m\u001b[0;34m.\u001b[0m\u001b[0mpath\u001b[0m\u001b[0;34m.\u001b[0m\u001b[0mjoin\u001b[0m\u001b[0;34m(\u001b[0m\u001b[0mPATH_TO_TEST_IMAGES_DIR\u001b[0m\u001b[0;34m,\u001b[0m \u001b[0;34m\"*.*\"\u001b[0m\u001b[0;34m)\u001b[0m\u001b[0;34m)\u001b[0m\u001b[0;34m\u001b[0m\u001b[0;34m\u001b[0m\u001b[0m\n\u001b[0;32m---> 38\u001b[0;31m \u001b[0;32massert\u001b[0m \u001b[0mlen\u001b[0m\u001b[0;34m(\u001b[0m\u001b[0mTEST_IMAGE_PATHS\u001b[0m\u001b[0;34m)\u001b[0m \u001b[0;34m>\u001b[0m \u001b[0;36m0\u001b[0m\u001b[0;34m,\u001b[0m \u001b[0;34m'No image found in `{}`.'\u001b[0m\u001b[0;34m.\u001b[0m\u001b[0mformat\u001b[0m\u001b[0;34m(\u001b[0m\u001b[0mPATH_TO_TEST_IMAGES_DIR\u001b[0m\u001b[0;34m)\u001b[0m\u001b[0;34m\u001b[0m\u001b[0;34m\u001b[0m\u001b[0m\n\u001b[0m\u001b[1;32m     39\u001b[0m \u001b[0mprint\u001b[0m\u001b[0;34m(\u001b[0m\u001b[0mTEST_IMAGE_PATHS\u001b[0m\u001b[0;34m)\u001b[0m\u001b[0;34m\u001b[0m\u001b[0;34m\u001b[0m\u001b[0m\n\u001b[1;32m     40\u001b[0m \u001b[0;34m\u001b[0m\u001b[0m\n",
            "\u001b[0;31mAssertionError\u001b[0m: No image found in `/content/signal_detection/test`."
          ]
        }
      ]
    },
    {
      "cell_type": "code",
      "metadata": {
        "id": "L1_aMmmw2xJ_",
        "colab_type": "code",
        "colab": {}
      },
      "source": [
        "df.to_csv (r'extracted_data.csv', index = False, header=True)\n",
        "files.download('extracted_data.csv')"
      ],
      "execution_count": 0,
      "outputs": []
    },
    {
      "cell_type": "code",
      "metadata": {
        "id": "ePdE-axUVbnt",
        "colab_type": "code",
        "colab": {}
      },
      "source": [
        ""
      ],
      "execution_count": 0,
      "outputs": []
    }
  ]
}